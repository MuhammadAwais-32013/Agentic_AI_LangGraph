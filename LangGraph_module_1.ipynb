{
  "nbformat": 4,
  "nbformat_minor": 0,
  "metadata": {
    "colab": {
      "provenance": [],
      "collapsed_sections": [
        "x9ieCjWHM0z5"
      ],
      "authorship_tag": "ABX9TyMFb+UgeC68NUngXWD9QCTF"
    },
    "kernelspec": {
      "name": "python3",
      "display_name": "Python 3"
    },
    "language_info": {
      "name": "python"
    }
  },
  "cells": [
    {
      "cell_type": "markdown",
      "source": [
        "#**Module 0**"
      ],
      "metadata": {
        "id": "I0U2H97lfHgE"
      }
    },
    {
      "cell_type": "code",
      "source": [
        "!pip install -q langchain_google_genai langchain_core"
      ],
      "metadata": {
        "id": "ewrBzudyfKTo"
      },
      "execution_count": null,
      "outputs": []
    },
    {
      "cell_type": "code",
      "source": [
        "from langchain_google_genai import ChatGoogleGenerativeAI\n",
        "from google.colab import userdata\n",
        "Gemini_API_KEY=userdata.get('Gemeini_API_KEY')\n",
        "llm=ChatGoogleGenerativeAI(\n",
        "    model=\"gemini-1.5-flash\",\n",
        "    api_key=Gemini_API_KEY,\n",
        "    temperature=0\n",
        ")"
      ],
      "metadata": {
        "id": "LwvxCzUSg9Mu"
      },
      "execution_count": null,
      "outputs": []
    },
    {
      "cell_type": "code",
      "source": [
        "llm.invoke(\"What is LLM\")"
      ],
      "metadata": {
        "id": "674shw5QiGNM"
      },
      "execution_count": null,
      "outputs": []
    },
    {
      "cell_type": "code",
      "source": [
        "from langchain_core.messages import HumanMessage, AIMessage\n",
        "messages=[\n",
        "    HumanMessage(role=\"User\", content='hello'),\n",
        "    AIMessage(role=\"Agentic AI Assistant\", content='Hi! How can I help you today? \\n'),\n",
        "    HumanMessage(role=\"User\", content=\"What is LangChain?\"),\n",
        "    AIMessage(role='Assiatant', content='LangChain is a framework for developing applications powered by large language models (LLMs)'),\n",
        "    HumanMessage(content=\"How can I learn\", name=\"user\")\n",
        "\n",
        "\n",
        "\n",
        "]\n",
        "\n",
        "messagess = [\n",
        "    HumanMessage(content=\"Hi\", name=\"Human Student\"),\n",
        "    AIMessage(content='Hi! How can I help you today? \\n', name=\"AI Assistant\"),\n",
        "    # HumanMessage(content=\"What is LangChain?\", name=\"Human Student\"),\n",
        "    AIMessage(content='LangChain is a framework for developing applications powered by language models.', name=\"AI Assistant\"),\n",
        "    HumanMessage(content=\"How can I learn\", name=\"Human Student\"),\n",
        "    ]\n",
        "\n",
        "#invoke the llm with list of message\n",
        "llm.invoke(messages)"
      ],
      "metadata": {
        "id": "XPw6LcOAlODJ"
      },
      "execution_count": null,
      "outputs": []
    },
    {
      "cell_type": "code",
      "source": [
        "# !pip install langchain_Community tavily-python\n",
        "import os\n",
        "from google.colab import userdata\n",
        "# Tavily_API_KEY=userdata.get('Tavily_API_KEY')\n",
        "os.environ['TAVILY_API_KEY']=userdata.get('Tavily_API_KEY')\n",
        "\n",
        "from langchain_community.tools.tavily_search import TavilySearchResults\n",
        "\n",
        "tavily_search = TavilySearchResults(max_results=4)\n",
        "# tavily_search.run(\"Who won 2024 US presidential ellection?\")\n",
        "from langchain.utilities.tavily_search import TavilySearchAPIWrapper\n",
        "search = TavilySearchAPIWrapper()\n",
        "tavily_tool = TavilySearchResults(api_wrapper=search)\n",
        "# tavily_tool.run(\"What is LangChain?\")\n",
        "\n",
        "tavily_tool.run(\"Who won 2024 US presidential ellection?\")\n"
      ],
      "metadata": {
        "id": "7MKIVpJjp3Y5"
      },
      "execution_count": null,
      "outputs": []
    },
    {
      "cell_type": "markdown",
      "source": [
        "#**Module 1**"
      ],
      "metadata": {
        "id": "BMeGaMlo1QfA"
      }
    },
    {
      "cell_type": "markdown",
      "source": [
        "##Simple Graph creation"
      ],
      "metadata": {
        "id": "_eQoXcG5V7nQ"
      }
    },
    {
      "cell_type": "code",
      "source": [
        "# instal required libaries\n",
        "!pip install -q -U langgraph"
      ],
      "metadata": {
        "id": "XVlAitX91VBu"
      },
      "execution_count": null,
      "outputs": []
    },
    {
      "cell_type": "code",
      "source": [
        "# import dic\n",
        "from typing_extensions import TypedDict\n",
        "\n",
        "# build a schema for state\n",
        "class AlphaCoding(TypedDict):\n",
        "  prompt:str"
      ],
      "metadata": {
        "id": "g5OsR46Zsu2V"
      },
      "execution_count": null,
      "outputs": []
    },
    {
      "cell_type": "code",
      "source": [
        "# check the simple build schema\n",
        "\n",
        "learnCpp:AlphaCoding=AlphaCoding(prompt=\"Learn C++\")\n",
        "# learnCpp[\"prompt\"]=\"i am\"\n",
        "# learnCpp['prompt']+' and Python now'\n"
      ],
      "metadata": {
        "colab": {
          "base_uri": "https://localhost:8080/",
          "height": 35
        },
        "id": "E_HZoF-7tlMa",
        "outputId": "22e19e64-3107-4b77-d569-ec04804d8509"
      },
      "execution_count": null,
      "outputs": [
        {
          "output_type": "execute_result",
          "data": {
            "text/plain": [
              "'Learn C++ and Python now'"
            ],
            "application/vnd.google.colaboratory.intrinsic+json": {
              "type": "string"
            }
          },
          "metadata": {},
          "execution_count": 12
        }
      ]
    },
    {
      "cell_type": "code",
      "source": [
        "def node1(state:AlphaCoding) -> AlphaCoding:\n",
        "  print(\"----------Node1----------\" ,state)\n",
        "  state['prompt']='I am learning  C++ '\n",
        "  return {'prompt': state[ 'prompt']}\n",
        "\n",
        "def node2(state:AlphaCoding)-> AlphaCoding:\n",
        "  print(\"--------Node2------------\", state)\n",
        "  return {'prompt': state['prompt']+'and Python as well'}\n"
      ],
      "metadata": {
        "id": "JLRhSUS4uXu4"
      },
      "execution_count": null,
      "outputs": []
    },
    {
      "cell_type": "code",
      "source": [
        "result=node1(learnCpp)\n",
        "result['prompt']"
      ],
      "metadata": {
        "id": "Ew8hJms7zxVf"
      },
      "execution_count": null,
      "outputs": []
    },
    {
      "cell_type": "code",
      "source": [
        "from langgraph.graph import StateGraph, START, END\n",
        "from langgraph.graph.state import CompiledStateGraph"
      ],
      "metadata": {
        "id": "pNF3tA_b-R_E"
      },
      "execution_count": null,
      "outputs": []
    },
    {
      "cell_type": "code",
      "source": [
        "build:StateGraph= StateGraph(state_schema=AlphaCoding)\n",
        "type(build)"
      ],
      "metadata": {
        "id": "a1u_GRjC_oHw"
      },
      "execution_count": null,
      "outputs": []
    },
    {
      "cell_type": "code",
      "source": [
        "\n",
        "build.add_node('node1', node1)\n",
        "build.add_node('node2', node2)"
      ],
      "metadata": {
        "colab": {
          "base_uri": "https://localhost:8080/"
        },
        "id": "RQZMrSr59XVl",
        "outputId": "cb20e73b-4d44-4183-a0c9-64fa4772d15d"
      },
      "execution_count": null,
      "outputs": [
        {
          "output_type": "execute_result",
          "data": {
            "text/plain": [
              "<langgraph.graph.state.StateGraph at 0x7d17bbe9c250>"
            ]
          },
          "metadata": {},
          "execution_count": 33
        }
      ]
    },
    {
      "cell_type": "code",
      "source": [
        "build.add_edge('node1','node2')\n",
        "build.add_edge(START,'node1')\n",
        "build.add_edge('node2',END)"
      ],
      "metadata": {
        "colab": {
          "base_uri": "https://localhost:8080/"
        },
        "id": "nW7TTKQB9r0h",
        "outputId": "522ce0cd-667b-47ab-fd72-6f48a622dfc3"
      },
      "execution_count": null,
      "outputs": [
        {
          "output_type": "execute_result",
          "data": {
            "text/plain": [
              "<langgraph.graph.state.StateGraph at 0x7d17bbe9c250>"
            ]
          },
          "metadata": {},
          "execution_count": 34
        }
      ]
    },
    {
      "cell_type": "code",
      "source": [
        "graph:CompiledStateGraph=build.compile()\n",
        "print(graph.get_graph())"
      ],
      "metadata": {
        "colab": {
          "base_uri": "https://localhost:8080/"
        },
        "id": "KHLZIdCI96vf",
        "outputId": "c843dabe-67f1-40e2-f871-6970665f1d56"
      },
      "execution_count": null,
      "outputs": [
        {
          "output_type": "stream",
          "name": "stdout",
          "text": [
            "Graph(nodes={'__start__': Node(id='__start__', name='__start__', data=<class 'langchain_core.utils.pydantic.LangGraphInput'>, metadata=None), 'node1': Node(id='node1', name='node1', data=node1(tags=None, recurse=True, func_accepts_config=False, func_accepts={'writer': False, 'store': False}), metadata=None), 'node2': Node(id='node2', name='node2', data=node2(tags=None, recurse=True, func_accepts_config=False, func_accepts={'writer': False, 'store': False}), metadata=None), '__end__': Node(id='__end__', name='__end__', data=<class 'langchain_core.utils.pydantic.LangGraphOutput'>, metadata=None)}, edges=[Edge(source='__start__', target='node1', data=None, conditional=False), Edge(source='node1', target='node2', data=None, conditional=False), Edge(source='node2', target='__end__', data=None, conditional=False)])\n"
          ]
        }
      ]
    },
    {
      "cell_type": "code",
      "source": [
        "from IPython.display import Image, display\n"
      ],
      "metadata": {
        "id": "ZaGvI2YKAxJk"
      },
      "execution_count": null,
      "outputs": []
    },
    {
      "cell_type": "code",
      "source": [
        "display(Image(graph.get_graph().draw_mermaid_png()))"
      ],
      "metadata": {
        "colab": {
          "base_uri": "https://localhost:8080/",
          "height": 350
        },
        "id": "6mQ904k6CgY3",
        "outputId": "cd235d85-2ecb-4984-d568-b0036dff85fb"
      },
      "execution_count": null,
      "outputs": [
        {
          "output_type": "display_data",
          "data": {
            "image/png": "[encoded data removed]",
            "text/plain": [
              "<IPython.core.display.Image object>"
            ]
          },
          "metadata": {}
        }
      ]
    },
    {
      "cell_type": "code",
      "source": [
        "graph.invoke({'prompt':'Hi'})"
      ],
      "metadata": {
        "colab": {
          "base_uri": "https://localhost:8080/"
        },
        "id": "od1Ll7L3DQFk",
        "outputId": "5e7c9f9d-eadb-48b9-bb93-87f339a624ee"
      },
      "execution_count": null,
      "outputs": [
        {
          "output_type": "stream",
          "name": "stdout",
          "text": [
            "----------Node1---------- {'prompt': 'Hi'}\n",
            "--------Node2------------ {'prompt': 'I am learning  C++ '}\n"
          ]
        },
        {
          "output_type": "execute_result",
          "data": {
            "text/plain": [
              "{'prompt': 'I am learning  C++ and Python as well'}"
            ]
          },
          "metadata": {},
          "execution_count": 49
        }
      ]
    },
    {
      "cell_type": "markdown",
      "source": [
        "##In Nodes Use LLM == GoogleChatModel in Langchain"
      ],
      "metadata": {
        "id": "E1oRl7cnEA98"
      }
    },
    {
      "cell_type": "code",
      "source": [
        "!pip install -q -U langchain langchain_google_genai"
      ],
      "metadata": {
        "colab": {
          "base_uri": "https://localhost:8080/"
        },
        "id": "V0-xP2RNEONm",
        "outputId": "c9528b77-476e-4154-9f4a-fc4619d94522"
      },
      "execution_count": null,
      "outputs": [
        {
          "output_type": "stream",
          "name": "stdout",
          "text": [
            "\u001b[?25l   \u001b[90m━━━━━━━━━━━━━━━━━━━━━━━━━━━━━━━━━━━━━━━━\u001b[0m \u001b[32m0.0/1.0 MB\u001b[0m \u001b[31m?\u001b[0m eta \u001b[36m-:--:--\u001b[0m\r\u001b[2K   \u001b[91m━━━━━━━━━━━━━━━━━━━━━\u001b[0m\u001b[91m╸\u001b[0m\u001b[90m━━━━━━━━━━━━━━━━━━\u001b[0m \u001b[32m0.5/1.0 MB\u001b[0m \u001b[31m17.6 MB/s\u001b[0m eta \u001b[36m0:00:01\u001b[0m\r\u001b[2K   \u001b[90m━━━━━━━━━━━━━━━━━━━━━━━━━━━━━━━━━━━━━━━━\u001b[0m \u001b[32m1.0/1.0 MB\u001b[0m \u001b[31m17.8 MB/s\u001b[0m eta \u001b[36m0:00:00\u001b[0m\n",
            "\u001b[?25h\u001b[?25l   \u001b[90m━━━━━━━━━━━━━━━━━━━━━━━━━━━━━━━━━━━━━━━━\u001b[0m \u001b[32m0.0/41.3 kB\u001b[0m \u001b[31m?\u001b[0m eta \u001b[36m-:--:--\u001b[0m\r\u001b[2K   \u001b[90m━━━━━━━━━━━━━━━━━━━━━━━━━━━━━━━━━━━━━━━━\u001b[0m \u001b[32m41.3/41.3 kB\u001b[0m \u001b[31m2.8 MB/s\u001b[0m eta \u001b[36m0:00:00\u001b[0m\n",
            "\u001b[?25h\u001b[?25l   \u001b[90m━━━━━━━━━━━━━━━━━━━━━━━━━━━━━━━━━━━━━━━━\u001b[0m \u001b[32m0.0/409.5 kB\u001b[0m \u001b[31m?\u001b[0m eta \u001b[36m-:--:--\u001b[0m\r\u001b[2K   \u001b[90m━━━━━━━━━━━━━━━━━━━━━━━━━━━━━━━━━━━━━━━━\u001b[0m \u001b[32m409.5/409.5 kB\u001b[0m \u001b[31m26.6 MB/s\u001b[0m eta \u001b[36m0:00:00\u001b[0m\n",
            "\u001b[?25h"
          ]
        }
      ]
    },
    {
      "cell_type": "code",
      "source": [
        "from google.colab import userdata\n",
        "Gemeini_API_KEY=userdata.get('Gemeini_API_KEY')"
      ],
      "metadata": {
        "id": "32HF5mlOFIxn"
      },
      "execution_count": null,
      "outputs": []
    },
    {
      "cell_type": "code",
      "source": [
        "from langchain_google_genai import ChatGoogleGenerativeAI\n",
        "llm:ChatGoogleGenerativeAI=ChatGoogleGenerativeAI(\n",
        "    model='gemini-1.5-flash',\n",
        "    api_key=Gemeini_API_KEY,\n",
        ")"
      ],
      "metadata": {
        "id": "oK2e3R7ZFZjm"
      },
      "execution_count": null,
      "outputs": []
    },
    {
      "cell_type": "code",
      "source": [
        "from langchain_core.messages import AIMessage\n",
        "ai_message:AIMessage= llm.invoke(\"Hi\")\n",
        "ai_message.content\n",
        "type(ai_message.content)"
      ],
      "metadata": {
        "colab": {
          "base_uri": "https://localhost:8080/"
        },
        "id": "GOtVSwXsFvd1",
        "outputId": "560586ad-6802-475a-9fef-5548e996e8fa"
      },
      "execution_count": null,
      "outputs": [
        {
          "output_type": "execute_result",
          "data": {
            "text/plain": [
              "str"
            ]
          },
          "metadata": {},
          "execution_count": 58
        }
      ]
    },
    {
      "cell_type": "code",
      "source": [
        "from typing_extensions import TypedDict\n",
        "\n",
        "class FirstAgent(TypedDict):\n",
        "  userInput:str\n",
        "  output:str\n",
        "\n",
        "def node_1(state:FirstAgent)->FirstAgent:\n",
        "  print(\"----------Node1----------\" ,state)\n",
        "  userInput=state['userInput']\n",
        "  ai_message=llm.invoke(userInput)\n",
        "  return {'output':ai_message.content}\n",
        "\n",
        "def node_2(state:FirstAgent)->FirstAgent:\n",
        "  print(\"--------Node2------------\", state)\n",
        "  userInput=state['userInput']\n",
        "  ai_message=llm.invoke(userInput)\n",
        "  return {'output':ai_message.content}\n"
      ],
      "metadata": {
        "id": "HriTJBiCGhHT"
      },
      "execution_count": null,
      "outputs": []
    },
    {
      "cell_type": "code",
      "source": [
        "builder:StateGraph=StateGraph(state_schema=FirstAgent)\n",
        "\n",
        "builder.add_node('node_1', node_1)\n",
        "builder.add_node('node_2', node_2)\n",
        "\n",
        "builder.add_edge(START,'node_1')\n",
        "builder.add_edge('node_1','node_2')\n",
        "builder.add_edge('node_2',END)\n",
        "\n",
        "graph:CompiledStateGraph= builder.compile()\n",
        "\n",
        "display(Image(graph.get_graph().draw_mermaid_png()))"
      ],
      "metadata": {
        "colab": {
          "base_uri": "https://localhost:8080/",
          "height": 350
        },
        "id": "yciJjq6EH5rE",
        "outputId": "480fd060-29e0-468a-c064-708695c50c55"
      },
      "execution_count": null,
      "outputs": [
        {
          "output_type": "display_data",
          "data": {
            "image/png": "[encoded data removed]",
            "text/plain": [
              "<IPython.core.display.Image object>"
            ]
          },
          "metadata": {}
        }
      ]
    },
    {
      "cell_type": "code",
      "source": [
        "# graph.invoke({'userInput':'Hi i am student of CS'})\n",
        "result= node_1({'userInput':'Hi i am student of CS'})\n",
        "\n"
      ],
      "metadata": {
        "colab": {
          "base_uri": "https://localhost:8080/"
        },
        "id": "fgL6AffuI2KR",
        "outputId": "2035edc9-9800-45d3-dcfa-e4fdbd96148e"
      },
      "execution_count": null,
      "outputs": [
        {
          "output_type": "stream",
          "name": "stdout",
          "text": [
            "----------Node1---------- {'userInput': 'Hi i am student of CS'}\n"
          ]
        },
        {
          "output_type": "execute_result",
          "data": {
            "text/plain": [
              "{'output': \"That's great!  What can I help you with today?  Are you working on a specific project, have a question about a concept, or just looking for some general advice?  Knowing what you're working on will help me give you the best assistance.\\n\"}"
            ]
          },
          "metadata": {},
          "execution_count": 69
        }
      ]
    },
    {
      "cell_type": "code",
      "source": [
        "result= node_1({'userInput':'Yes i am learning langGraph'})\n",
        "result"
      ],
      "metadata": {
        "colab": {
          "base_uri": "https://localhost:8080/"
        },
        "id": "nl0Bs5dzJ6qW",
        "outputId": "ec6ced79-20f1-41db-a53a-66a6485c19af"
      },
      "execution_count": null,
      "outputs": [
        {
          "output_type": "stream",
          "name": "stdout",
          "text": [
            "----------Node1---------- {'userInput': 'Yes i am learning langGraph'}\n"
          ]
        },
        {
          "output_type": "execute_result",
          "data": {
            "text/plain": [
              "{'output': \"That's great! LangGraph is a powerful tool, but it can also be quite complex.  To help me assist you better, could you tell me what specifically you'd like help with?  For example, are you:\\n\\n* **Just starting out and need help understanding the basics?**  (e.g., What is LangGraph? How do I install it?)\\n* **Working on a specific project and encountering a problem?** (e.g.,  I'm trying to build a graph for X, but I'm getting this error...)\\n* **Trying to understand a particular concept?** (e.g.,  Can you explain the difference between node types A and B?)\\n* **Looking for resources to learn more?** (e.g., Do you know of any good tutorials or documentation?)\\n\\n\\nThe more detail you can provide, the better I can help you.\\n\"}"
            ]
          },
          "metadata": {},
          "execution_count": 70
        }
      ]
    },
    {
      "cell_type": "code",
      "source": [
        "result= node_1({'userInput':'Motivate me to learn langraph'})\n",
        "result"
      ],
      "metadata": {
        "colab": {
          "base_uri": "https://localhost:8080/"
        },
        "id": "QGpCpyf_KE5W",
        "outputId": "e8f28f1d-5412-45cb-a415-b24c21b90ae6"
      },
      "execution_count": null,
      "outputs": [
        {
          "output_type": "stream",
          "name": "stdout",
          "text": [
            "----------Node1---------- {'userInput': 'Motivate me to learn langraph'}\n"
          ]
        },
        {
          "output_type": "execute_result",
          "data": {
            "text/plain": [
              "{'output': \"Let's talk about why learning LangChain might be the *perfect* next step for you. Forget dry technical jargon – let's focus on the exciting possibilities:\\n\\n**Imagine this:**\\n\\n* **You're building a revolutionary chatbot:**  Not just a simple Q&A bot, but one that can access and process information from your entire personal document library, summarizing complex reports in seconds, or even crafting creative stories based on your own data. LangChain gives you the tools to make this a reality.\\n\\n* **You're streamlining your workflow:**  Tired of manually searching through countless documents? LangChain can help you build a system that instantly finds the relevant information you need, saving you hours of tedious work. Imagine a personal research assistant, always at your fingertips.\\n\\n* **You're at the forefront of AI innovation:** LangChain is a leading framework in a rapidly evolving field. Mastering it positions you as a highly sought-after developer with cutting-edge skills.  This isn't just learning a library; it's gaining a competitive edge in the future of tech.\\n\\n* **You're unlocking your creativity:** LangChain isn't just for practical applications.  It can be used to build exciting and innovative creative tools – imagine generating unique poems, scripts, or even musical compositions based on your own prompts and data.\\n\\n* **It's surprisingly accessible:** While powerful, LangChain is designed to be relatively user-friendly, offering a wealth of tutorials and community support to help you learn at your own pace.  You don't need to be a seasoned AI expert to get started.\\n\\n\\nLearning LangChain isn't about memorizing syntax; it's about gaining a powerful new ability to build intelligent applications. It's about unlocking your potential to create, automate, and innovate.  It's about stepping into the future of AI development.\\n\\nSo, are you ready to start building?  The journey might be challenging, but the rewards are immense.  Let's get started!  What's the first step you'll take today?\\n\"}"
            ]
          },
          "metadata": {},
          "execution_count": 71
        }
      ]
    },
    {
      "cell_type": "code",
      "source": [
        "result= node_1({'userInput':'Who am i? do you remember me'})\n",
        "result"
      ],
      "metadata": {
        "colab": {
          "base_uri": "https://localhost:8080/"
        },
        "id": "sJACtJmtKVOR",
        "outputId": "7984dc4a-4da0-46c2-d6d5-c8ae923a1905"
      },
      "execution_count": null,
      "outputs": [
        {
          "output_type": "stream",
          "name": "stdout",
          "text": [
            "----------Node1---------- {'userInput': 'Who am i? do you remember me'}\n"
          ]
        },
        {
          "output_type": "execute_result",
          "data": {
            "text/plain": [
              "{'output': \"As a large language model, I have no memory of past conversations.  Each interaction with me starts fresh.  To help me understand who you are, you'll need to tell me something about yourself!\\n\"}"
            ]
          },
          "metadata": {},
          "execution_count": 72
        }
      ]
    },
    {
      "cell_type": "code",
      "source": [
        "result= node_1({'userInput':'Hi i am student of CS'})\n",
        "result"
      ],
      "metadata": {
        "colab": {
          "base_uri": "https://localhost:8080/"
        },
        "id": "N7jwNJhgK-sZ",
        "outputId": "ec6a71f2-c3bd-474c-9d48-a702d3ea0ab8"
      },
      "execution_count": null,
      "outputs": [
        {
          "output_type": "stream",
          "name": "stdout",
          "text": [
            "----------Node1---------- {'userInput': 'Hi i am student of CS'}\n"
          ]
        },
        {
          "output_type": "execute_result",
          "data": {
            "text/plain": [
              "{'output': \"That's great!  What can I help you with today?  Are you working on a specific project, have a question about a concept, or just looking for general advice?  Let me know how I can assist you.\\n\"}"
            ]
          },
          "metadata": {},
          "execution_count": 75
        }
      ]
    },
    {
      "cell_type": "code",
      "source": [
        "result= node_2({'userInput':'Yes i am learning langGraph'})\n",
        "result"
      ],
      "metadata": {
        "colab": {
          "base_uri": "https://localhost:8080/"
        },
        "id": "b9akBDWJLDen",
        "outputId": "3709d337-ac92-4188-ed83-a9136130d3c6"
      },
      "execution_count": null,
      "outputs": [
        {
          "output_type": "stream",
          "name": "stdout",
          "text": [
            "--------Node2------------ {'userInput': 'Yes i am learning langGraph'}\n"
          ]
        },
        {
          "output_type": "execute_result",
          "data": {
            "text/plain": [
              "{'output': \"That's great!  LangGraph is a powerful tool. To help me assist you better, could you tell me what specifically you'd like to know or what you're working on with LangGraph?  For example, are you:\\n\\n* **Trying to understand the core concepts?** (e.g., graph representations of language, node types, edge types)\\n* **Working on a specific project?** (e.g., building a knowledge graph, performing a specific analysis)\\n* **Encountering a particular problem or error?** (Please provide details!)\\n* **Looking for resources or tutorials?**\\n\\nThe more information you provide, the better I can help you learn and use LangGraph effectively.\\n\"}"
            ]
          },
          "metadata": {},
          "execution_count": 77
        }
      ]
    },
    {
      "cell_type": "code",
      "source": [
        "result= node_2({'userInput':'Motivate me to learn langraph'})\n",
        "result"
      ],
      "metadata": {
        "colab": {
          "base_uri": "https://localhost:8080/"
        },
        "id": "6JyarpkzLHy4",
        "outputId": "0bc78b2f-0fce-4d89-d621-1605a2a5ef0c"
      },
      "execution_count": null,
      "outputs": [
        {
          "output_type": "stream",
          "name": "stdout",
          "text": [
            "--------Node2------------ {'userInput': 'Motivate me to learn langraph'}\n"
          ]
        },
        {
          "output_type": "execute_result",
          "data": {
            "text/plain": [
              "{'output': \"Let's talk about why you should learn LangChain.  Forget the dry, technical jargon for a moment – let's focus on the *impact* and *excitement* of what you can build.\\n\\n**Imagine this:**\\n\\n* **You're building a revolutionary chatbot:** Not just a simple Q&A bot, but one that can access and process information from your own private documents, your company's internal knowledge base, or even the entire public web. Imagine the possibilities for customer service, internal support, or even personalized education. LangChain makes this *accessible*.\\n\\n* **You're crafting a powerful summarization tool:**  Need to sift through hundreds of pages of research papers, legal documents, or news articles? LangChain can help you build a tool that automatically extracts the key information, saving you hours (or even days) of tedious work.\\n\\n* **You're creating a creative writing assistant:**  Stuck on writer's block? LangChain can help you brainstorm ideas, generate different writing styles, and even help you refine your existing work. Think of it as a supercharged, AI-powered writing partner.\\n\\n* **You're developing a personalized learning platform:**  LangChain can help you build a system that adapts to each student's learning style and pace, providing customized feedback and resources.\\n\\n**LangChain isn't just another library; it's a gateway to a world of possibilities.**  It empowers you to:\\n\\n* **Work with diverse data sources:**  Connect to PDFs, databases, APIs, and more, seamlessly integrating them into your LLM applications.\\n* **Build robust and reliable applications:**  LangChain provides the structure and tools to manage complex workflows and handle potential errors gracefully.\\n* **Become a highly sought-after developer:**  The demand for developers skilled in LLM applications is exploding. Mastering LangChain puts you at the forefront of this exciting field.\\n* **Solve real-world problems:**  The applications are truly limitless – from automating tedious tasks to creating innovative new products and services.\\n\\nLearning LangChain might seem daunting at first, but the rewards are immense.  Start small, build a simple project, and gradually expand your skills.  The journey will be challenging, but the destination – a world of intelligent, AI-powered applications – is incredibly rewarding.  Are you ready to embark on this adventure?\\n\"}"
            ]
          },
          "metadata": {},
          "execution_count": 79
        }
      ]
    },
    {
      "cell_type": "code",
      "source": [
        "result= node_1({'userInput':'Who am i? do you remember me'})\n",
        "result"
      ],
      "metadata": {
        "colab": {
          "base_uri": "https://localhost:8080/"
        },
        "id": "peopb3qWLZUB",
        "outputId": "3c8ae7a4-9e6a-4699-a6f2-14b4025569e2"
      },
      "execution_count": null,
      "outputs": [
        {
          "output_type": "stream",
          "name": "stdout",
          "text": [
            "----------Node1---------- {'userInput': 'Who am i? do you remember me'}\n"
          ]
        },
        {
          "output_type": "execute_result",
          "data": {
            "text/plain": [
              "{'output': \"As a large language model, I have no memory of past conversations.  Each interaction with me starts fresh.  To help me understand who you are, you'll need to tell me something about yourself!\\n\"}"
            ]
          },
          "metadata": {},
          "execution_count": 80
        }
      ]
    },
    {
      "cell_type": "code",
      "source": [
        "result= node_2({'userInput':'Who am i? do you remember me'})\n",
        "result"
      ],
      "metadata": {
        "colab": {
          "base_uri": "https://localhost:8080/"
        },
        "id": "zU8lWiF5Ld6c",
        "outputId": "2f7afadd-519e-40b3-df5f-cd63a61996a4"
      },
      "execution_count": null,
      "outputs": [
        {
          "output_type": "stream",
          "name": "stdout",
          "text": [
            "--------Node2------------ {'userInput': 'Who am i? do you remember me'}\n"
          ]
        },
        {
          "output_type": "execute_result",
          "data": {
            "text/plain": [
              "{'output': 'As a large language model, I have no memory of past conversations.  Each interaction with me starts fresh.  To help me understand who you are, please tell me something about yourself!\\n'}"
            ]
          },
          "metadata": {},
          "execution_count": 81
        }
      ]
    },
    {
      "cell_type": "markdown",
      "source": [
        "##Conditional Edge"
      ],
      "metadata": {
        "id": "x9ieCjWHM0z5"
      }
    },
    {
      "cell_type": "code",
      "source": [
        "!pip install -q -U langgraph langchain langchain_google_genai\n"
      ],
      "metadata": {
        "id": "tfZgBlQfM6qD"
      },
      "execution_count": null,
      "outputs": []
    },
    {
      "cell_type": "code",
      "source": [
        "from google.colab import userdata\n",
        "from langchain_google_genai import ChatGoogleGenerativeAI\n",
        "Gemeini_API_KEY=userdata.get('Gemeini_API_KEY')\n",
        "llm:ChatGoogleGenerativeAI=ChatGoogleGenerativeAI(\n",
        "    model='gemini-1.5-flash',\n",
        "    Gemeini_API_KEY=Gemeini_API_KEY,\n",
        ")"
      ],
      "metadata": {
        "id": "JfbQSeT-NKm_"
      },
      "execution_count": null,
      "outputs": []
    },
    {
      "cell_type": "code",
      "source": [
        "from typing_extensions import TypedDict\n",
        "\n",
        "class secondAgent(TypedDict):\n",
        "  userInput:str\n",
        "  # output:str\n",
        "\n",
        "def node_1(state:secondAgent)->secondAgent:\n",
        "  print(\"----------Node1----------\" ,state)\n",
        "  userInput=state['userInput']\n",
        "  # return {'output':userInput }\n",
        "  return {'userInput':userInput + 'I am ' }\n",
        "\n",
        "def node_2(state:secondAgent)->secondAgent:\n",
        "  print(\"--------Node2------------\", state)\n",
        "  userInput=state['userInput']\n",
        "  return {'userInput':userInput + 'happy' }\n",
        "\n",
        "def node_3(state:secondAgent)->secondAgent:\n",
        "  print(\"--------Node3------------\", state)\n",
        "\n",
        "  return {'userInput':state['userInput'] + 'sad' }"
      ],
      "metadata": {
        "id": "hGVeY8lbN60i"
      },
      "execution_count": null,
      "outputs": []
    },
    {
      "cell_type": "code",
      "source": [
        "import random\n",
        "from typing import Literal\n",
        "def decision_node(state:secondAgent)-> Literal['node_2', 'node_3']:\n",
        "  check:float= random.random()\n",
        "\n",
        "  if(check>0.5):\n",
        "    return 'node_2'\n",
        "  else:\n",
        "    return 'node_3'\n",
        "\n"
      ],
      "metadata": {
        "id": "hnkKL9L2Oug6"
      },
      "execution_count": null,
      "outputs": []
    },
    {
      "cell_type": "code",
      "source": [
        "from IPython.display import Image, display\n",
        "from langgraph.graph.state import CompiledStateGraph\n",
        "from langgraph.graph import StateGraph, START, END\n",
        "\n",
        "builder:StateGraph=StateGraph(state_schema=secondAgent)\n",
        "\n",
        "builder.add_node('node_1',node_1)\n",
        "builder.add_node('node_2',node_2)\n",
        "builder.add_node('node_3',node_3)\n",
        "\n",
        "builder.add_edge(START, 'node_1')\n",
        "builder.add_conditional_edges('node_1', decision_node)\n",
        "builder.add_edge('node_2', END)\n",
        "builder.add_edge('node_3', END)\n",
        "\n",
        "graph:CompiledStateGraph= builder.compile()\n",
        "\n",
        "display(Image(graph.get_graph().draw_mermaid_png()))"
      ],
      "metadata": {
        "colab": {
          "base_uri": "https://localhost:8080/",
          "height": 350
        },
        "id": "gKeoOARNQGzB",
        "outputId": "86c95b61-7176-4426-d359-be44ed0fbd90"
      },
      "execution_count": null,
      "outputs": [
        {
          "output_type": "display_data",
          "data": {
            "image/png": "[encoded data removed]",
            "text/plain": [
              "<IPython.core.display.Image object>"
            ]
          },
          "metadata": {}
        }
      ]
    },
    {
      "cell_type": "code",
      "source": [
        "graph.invoke({'userInput':'Hello Here is  Ali '})"
      ],
      "metadata": {
        "colab": {
          "base_uri": "https://localhost:8080/"
        },
        "id": "LOnIQMcZTZ0r",
        "outputId": "9521bf70-b949-401d-a39e-13b80dd3a881"
      },
      "execution_count": null,
      "outputs": [
        {
          "output_type": "stream",
          "name": "stdout",
          "text": [
            "----------Node1---------- {'userInput': 'Hello Here is  Ali '}\n",
            "--------Node3------------ {'userInput': 'Hello Here is  Ali I am '}\n"
          ]
        },
        {
          "output_type": "execute_result",
          "data": {
            "text/plain": [
              "{'userInput': 'Hello Here is  Ali I am sad'}"
            ]
          },
          "metadata": {},
          "execution_count": 36
        }
      ]
    },
    {
      "cell_type": "markdown",
      "source": [
        "##**LLM with Tool Calling, Chains & Reducers**"
      ],
      "metadata": {
        "id": "5Jnp3Q9pxdoh"
      }
    },
    {
      "cell_type": "code",
      "source": [
        "from pprint import pprint\n",
        "from langchain_core.messages import AIMessage, HumanMessage\n",
        "messages=[AIMessage(content='Your an Tourist Assistant', name='model')]\n",
        "messages.append(HumanMessage( content='i want to explore the northern Areas of Pakistan', name='user'))\n",
        "messages.append(AIMessage(content='You can vist GB', name='model'))\n",
        "\n",
        "for m in messages:\n",
        "  m.pretty_print()"
      ],
      "metadata": {
        "id": "3ihX2spWxsU6"
      },
      "execution_count": null,
      "outputs": []
    },
    {
      "cell_type": "code",
      "source": [
        "!pip install -q -U langchain_google_genai langchain_core"
      ],
      "metadata": {
        "colab": {
          "base_uri": "https://localhost:8080/"
        },
        "id": "LsF5bPppxp6c",
        "outputId": "d0e6762d-1c97-46be-96a9-54f181ae3d6a"
      },
      "execution_count": null,
      "outputs": [
        {
          "output_type": "stream",
          "name": "stdout",
          "text": [
            "\u001b[?25l   \u001b[90m━━━━━━━━━━━━━━━━━━━━━━━━━━━━━━━━━━━━━━━━\u001b[0m \u001b[32m0.0/41.3 kB\u001b[0m \u001b[31m?\u001b[0m eta \u001b[36m-:--:--\u001b[0m\r\u001b[2K   \u001b[90m━━━━━━━━━━━━━━━━━━━━━━━━━━━━━━━━━━━━━━━━\u001b[0m \u001b[32m41.3/41.3 kB\u001b[0m \u001b[31m1.6 MB/s\u001b[0m eta \u001b[36m0:00:00\u001b[0m\n",
            "\u001b[?25h\u001b[?25l   \u001b[90m━━━━━━━━━━━━━━━━━━━━━━━━━━━━━━━━━━━━━━━━\u001b[0m \u001b[32m0.0/409.5 kB\u001b[0m \u001b[31m?\u001b[0m eta \u001b[36m-:--:--\u001b[0m\r\u001b[2K   \u001b[91m━━━━━━━━━━━━━━━━━━━━━━━━━━━━━━━━━━━━━━━\u001b[0m\u001b[90m╺\u001b[0m \u001b[32m399.4/409.5 kB\u001b[0m \u001b[31m13.9 MB/s\u001b[0m eta \u001b[36m0:00:01\u001b[0m\r\u001b[2K   \u001b[90m━━━━━━━━━━━━━━━━━━━━━━━━━━━━━━━━━━━━━━━━\u001b[0m \u001b[32m409.5/409.5 kB\u001b[0m \u001b[31m9.9 MB/s\u001b[0m eta \u001b[36m0:00:00\u001b[0m\n",
            "\u001b[?25h"
          ]
        }
      ]
    },
    {
      "cell_type": "code",
      "source": [
        "from google.colab import userdata\n",
        "Gemeini_API_KEY=userdata.get('Gemeini_API_KEY')"
      ],
      "metadata": {
        "id": "KP90uGiVxdTO"
      },
      "execution_count": null,
      "outputs": []
    },
    {
      "cell_type": "code",
      "source": [
        "from langchain_google_genai import ChatGoogleGenerativeAI\n",
        "from langchain_core.messages import SystemMessage, HumanMessage\n",
        "llm:ChatGoogleGenerativeAI=ChatGoogleGenerativeAI(\n",
        "    model='gemini-1.5-flash',\n",
        "    api_key=Gemeini_API_KEY,\n",
        "\n",
        ")\n",
        "\n",
        "system_human_message = [\n",
        "                SystemMessage(content=\"You are a helpful assistant! Your name is Bob.\"),\n",
        "                HumanMessage(content=\"What is your name?\")\n",
        "            ]\n",
        "result = llm.invoke(system_human_message)\n",
        "print(result)"
      ],
      "metadata": {
        "colab": {
          "base_uri": "https://localhost:8080/"
        },
        "id": "U-WlAMNgyjTP",
        "outputId": "6bc17f49-a255-4aa8-ed34-291c4c06afc1"
      },
      "execution_count": null,
      "outputs": [
        {
          "output_type": "stream",
          "name": "stdout",
          "text": [
            "content='My name is Bob.\\n' additional_kwargs={} response_metadata={'prompt_feedback': {'block_reason': 0, 'safety_ratings': []}, 'finish_reason': 'STOP', 'safety_ratings': []} id='run-c2dd1e2b-8953-404e-ab9d-864a17edced6-0' usage_metadata={'input_tokens': 17, 'output_tokens': 6, 'total_tokens': 23, 'input_token_details': {'cache_read': 0}}\n"
          ]
        }
      ]
    },
    {
      "cell_type": "markdown",
      "source": [
        "###With Tool function"
      ],
      "metadata": {
        "id": "PkbmAejtzft4"
      }
    },
    {
      "cell_type": "code",
      "source": [
        "!pip install langgraph"
      ],
      "metadata": {
        "id": "0OPq5Ug8zqUA",
        "colab": {
          "base_uri": "https://localhost:8080/"
        },
        "outputId": "4efd1ea7-a072-442b-c192-7ca79caafdbb"
      },
      "execution_count": null,
      "outputs": [
        {
          "output_type": "stream",
          "name": "stdout",
          "text": [
            "Collecting langgraph\n",
            "  Downloading langgraph-0.2.53-py3-none-any.whl.metadata (15 kB)\n",
            "Requirement already satisfied: langchain-core!=0.3.0,!=0.3.1,!=0.3.10,!=0.3.11,!=0.3.12,!=0.3.13,!=0.3.14,!=0.3.2,!=0.3.3,!=0.3.4,!=0.3.5,!=0.3.6,!=0.3.7,!=0.3.8,!=0.3.9,<0.4.0,>=0.2.43 in /usr/local/lib/python3.10/dist-packages (from langgraph) (0.3.21)\n",
            "Collecting langgraph-checkpoint<3.0.0,>=2.0.4 (from langgraph)\n",
            "  Downloading langgraph_checkpoint-2.0.7-py3-none-any.whl.metadata (4.6 kB)\n",
            "Collecting langgraph-sdk<0.2.0,>=0.1.32 (from langgraph)\n",
            "  Downloading langgraph_sdk-0.1.40-py3-none-any.whl.metadata (1.8 kB)\n",
            "Requirement already satisfied: PyYAML>=5.3 in /usr/local/lib/python3.10/dist-packages (from langchain-core!=0.3.0,!=0.3.1,!=0.3.10,!=0.3.11,!=0.3.12,!=0.3.13,!=0.3.14,!=0.3.2,!=0.3.3,!=0.3.4,!=0.3.5,!=0.3.6,!=0.3.7,!=0.3.8,!=0.3.9,<0.4.0,>=0.2.43->langgraph) (6.0.2)\n",
            "Requirement already satisfied: jsonpatch<2.0,>=1.33 in /usr/local/lib/python3.10/dist-packages (from langchain-core!=0.3.0,!=0.3.1,!=0.3.10,!=0.3.11,!=0.3.12,!=0.3.13,!=0.3.14,!=0.3.2,!=0.3.3,!=0.3.4,!=0.3.5,!=0.3.6,!=0.3.7,!=0.3.8,!=0.3.9,<0.4.0,>=0.2.43->langgraph) (1.33)\n",
            "Requirement already satisfied: langsmith<0.2.0,>=0.1.125 in /usr/local/lib/python3.10/dist-packages (from langchain-core!=0.3.0,!=0.3.1,!=0.3.10,!=0.3.11,!=0.3.12,!=0.3.13,!=0.3.14,!=0.3.2,!=0.3.3,!=0.3.4,!=0.3.5,!=0.3.6,!=0.3.7,!=0.3.8,!=0.3.9,<0.4.0,>=0.2.43->langgraph) (0.1.143)\n",
            "Requirement already satisfied: packaging<25,>=23.2 in /usr/local/lib/python3.10/dist-packages (from langchain-core!=0.3.0,!=0.3.1,!=0.3.10,!=0.3.11,!=0.3.12,!=0.3.13,!=0.3.14,!=0.3.2,!=0.3.3,!=0.3.4,!=0.3.5,!=0.3.6,!=0.3.7,!=0.3.8,!=0.3.9,<0.4.0,>=0.2.43->langgraph) (24.2)\n",
            "Requirement already satisfied: pydantic<3.0.0,>=2.5.2 in /usr/local/lib/python3.10/dist-packages (from langchain-core!=0.3.0,!=0.3.1,!=0.3.10,!=0.3.11,!=0.3.12,!=0.3.13,!=0.3.14,!=0.3.2,!=0.3.3,!=0.3.4,!=0.3.5,!=0.3.6,!=0.3.7,!=0.3.8,!=0.3.9,<0.4.0,>=0.2.43->langgraph) (2.9.2)\n",
            "Requirement already satisfied: tenacity!=8.4.0,<10.0.0,>=8.1.0 in /usr/local/lib/python3.10/dist-packages (from langchain-core!=0.3.0,!=0.3.1,!=0.3.10,!=0.3.11,!=0.3.12,!=0.3.13,!=0.3.14,!=0.3.2,!=0.3.3,!=0.3.4,!=0.3.5,!=0.3.6,!=0.3.7,!=0.3.8,!=0.3.9,<0.4.0,>=0.2.43->langgraph) (9.0.0)\n",
            "Requirement already satisfied: typing-extensions>=4.7 in /usr/local/lib/python3.10/dist-packages (from langchain-core!=0.3.0,!=0.3.1,!=0.3.10,!=0.3.11,!=0.3.12,!=0.3.13,!=0.3.14,!=0.3.2,!=0.3.3,!=0.3.4,!=0.3.5,!=0.3.6,!=0.3.7,!=0.3.8,!=0.3.9,<0.4.0,>=0.2.43->langgraph) (4.12.2)\n",
            "Requirement already satisfied: msgpack<2.0.0,>=1.1.0 in /usr/local/lib/python3.10/dist-packages (from langgraph-checkpoint<3.0.0,>=2.0.4->langgraph) (1.1.0)\n",
            "Requirement already satisfied: httpx>=0.25.2 in /usr/local/lib/python3.10/dist-packages (from langgraph-sdk<0.2.0,>=0.1.32->langgraph) (0.27.2)\n",
            "Collecting httpx-sse>=0.4.0 (from langgraph-sdk<0.2.0,>=0.1.32->langgraph)\n",
            "  Downloading httpx_sse-0.4.0-py3-none-any.whl.metadata (9.0 kB)\n",
            "Requirement already satisfied: orjson>=3.10.1 in /usr/local/lib/python3.10/dist-packages (from langgraph-sdk<0.2.0,>=0.1.32->langgraph) (3.10.11)\n",
            "Requirement already satisfied: anyio in /usr/local/lib/python3.10/dist-packages (from httpx>=0.25.2->langgraph-sdk<0.2.0,>=0.1.32->langgraph) (3.7.1)\n",
            "Requirement already satisfied: certifi in /usr/local/lib/python3.10/dist-packages (from httpx>=0.25.2->langgraph-sdk<0.2.0,>=0.1.32->langgraph) (2024.8.30)\n",
            "Requirement already satisfied: httpcore==1.* in /usr/local/lib/python3.10/dist-packages (from httpx>=0.25.2->langgraph-sdk<0.2.0,>=0.1.32->langgraph) (1.0.7)\n",
            "Requirement already satisfied: idna in /usr/local/lib/python3.10/dist-packages (from httpx>=0.25.2->langgraph-sdk<0.2.0,>=0.1.32->langgraph) (3.10)\n",
            "Requirement already satisfied: sniffio in /usr/local/lib/python3.10/dist-packages (from httpx>=0.25.2->langgraph-sdk<0.2.0,>=0.1.32->langgraph) (1.3.1)\n",
            "Requirement already satisfied: h11<0.15,>=0.13 in /usr/local/lib/python3.10/dist-packages (from httpcore==1.*->httpx>=0.25.2->langgraph-sdk<0.2.0,>=0.1.32->langgraph) (0.14.0)\n",
            "Requirement already satisfied: jsonpointer>=1.9 in /usr/local/lib/python3.10/dist-packages (from jsonpatch<2.0,>=1.33->langchain-core!=0.3.0,!=0.3.1,!=0.3.10,!=0.3.11,!=0.3.12,!=0.3.13,!=0.3.14,!=0.3.2,!=0.3.3,!=0.3.4,!=0.3.5,!=0.3.6,!=0.3.7,!=0.3.8,!=0.3.9,<0.4.0,>=0.2.43->langgraph) (3.0.0)\n",
            "Requirement already satisfied: requests<3,>=2 in /usr/local/lib/python3.10/dist-packages (from langsmith<0.2.0,>=0.1.125->langchain-core!=0.3.0,!=0.3.1,!=0.3.10,!=0.3.11,!=0.3.12,!=0.3.13,!=0.3.14,!=0.3.2,!=0.3.3,!=0.3.4,!=0.3.5,!=0.3.6,!=0.3.7,!=0.3.8,!=0.3.9,<0.4.0,>=0.2.43->langgraph) (2.32.3)\n",
            "Requirement already satisfied: requests-toolbelt<2.0.0,>=1.0.0 in /usr/local/lib/python3.10/dist-packages (from langsmith<0.2.0,>=0.1.125->langchain-core!=0.3.0,!=0.3.1,!=0.3.10,!=0.3.11,!=0.3.12,!=0.3.13,!=0.3.14,!=0.3.2,!=0.3.3,!=0.3.4,!=0.3.5,!=0.3.6,!=0.3.7,!=0.3.8,!=0.3.9,<0.4.0,>=0.2.43->langgraph) (1.0.0)\n",
            "Requirement already satisfied: annotated-types>=0.6.0 in /usr/local/lib/python3.10/dist-packages (from pydantic<3.0.0,>=2.5.2->langchain-core!=0.3.0,!=0.3.1,!=0.3.10,!=0.3.11,!=0.3.12,!=0.3.13,!=0.3.14,!=0.3.2,!=0.3.3,!=0.3.4,!=0.3.5,!=0.3.6,!=0.3.7,!=0.3.8,!=0.3.9,<0.4.0,>=0.2.43->langgraph) (0.7.0)\n",
            "Requirement already satisfied: pydantic-core==2.23.4 in /usr/local/lib/python3.10/dist-packages (from pydantic<3.0.0,>=2.5.2->langchain-core!=0.3.0,!=0.3.1,!=0.3.10,!=0.3.11,!=0.3.12,!=0.3.13,!=0.3.14,!=0.3.2,!=0.3.3,!=0.3.4,!=0.3.5,!=0.3.6,!=0.3.7,!=0.3.8,!=0.3.9,<0.4.0,>=0.2.43->langgraph) (2.23.4)\n",
            "Requirement already satisfied: charset-normalizer<4,>=2 in /usr/local/lib/python3.10/dist-packages (from requests<3,>=2->langsmith<0.2.0,>=0.1.125->langchain-core!=0.3.0,!=0.3.1,!=0.3.10,!=0.3.11,!=0.3.12,!=0.3.13,!=0.3.14,!=0.3.2,!=0.3.3,!=0.3.4,!=0.3.5,!=0.3.6,!=0.3.7,!=0.3.8,!=0.3.9,<0.4.0,>=0.2.43->langgraph) (3.4.0)\n",
            "Requirement already satisfied: urllib3<3,>=1.21.1 in /usr/local/lib/python3.10/dist-packages (from requests<3,>=2->langsmith<0.2.0,>=0.1.125->langchain-core!=0.3.0,!=0.3.1,!=0.3.10,!=0.3.11,!=0.3.12,!=0.3.13,!=0.3.14,!=0.3.2,!=0.3.3,!=0.3.4,!=0.3.5,!=0.3.6,!=0.3.7,!=0.3.8,!=0.3.9,<0.4.0,>=0.2.43->langgraph) (2.2.3)\n",
            "Requirement already satisfied: exceptiongroup in /usr/local/lib/python3.10/dist-packages (from anyio->httpx>=0.25.2->langgraph-sdk<0.2.0,>=0.1.32->langgraph) (1.2.2)\n",
            "Downloading langgraph-0.2.53-py3-none-any.whl (125 kB)\n",
            "\u001b[2K   \u001b[90m━━━━━━━━━━━━━━━━━━━━━━━━━━━━━━━━━━━━━━━━\u001b[0m \u001b[32m125.1/125.1 kB\u001b[0m \u001b[31m3.8 MB/s\u001b[0m eta \u001b[36m0:00:00\u001b[0m\n",
            "\u001b[?25hDownloading langgraph_checkpoint-2.0.7-py3-none-any.whl (35 kB)\n",
            "Downloading langgraph_sdk-0.1.40-py3-none-any.whl (29 kB)\n",
            "Downloading httpx_sse-0.4.0-py3-none-any.whl (7.8 kB)\n",
            "Installing collected packages: httpx-sse, langgraph-sdk, langgraph-checkpoint, langgraph\n",
            "Successfully installed httpx-sse-0.4.0 langgraph-0.2.53 langgraph-checkpoint-2.0.7 langgraph-sdk-0.1.40\n"
          ]
        }
      ]
    },
    {
      "cell_type": "code",
      "source": [
        "print(llm)"
      ],
      "metadata": {
        "colab": {
          "base_uri": "https://localhost:8080/"
        },
        "id": "F3qCRUp50xep",
        "outputId": "611d8b4b-8a8e-4d1c-eb9a-eeadeb7a9e93"
      },
      "execution_count": null,
      "outputs": [
        {
          "output_type": "stream",
          "name": "stdout",
          "text": [
            "model='models/gemini-1.5-flash' google_api_key=SecretStr('**********') client=<google.ai.generativelanguage_v1beta.services.generative_service.client.GenerativeServiceClient object at 0x7ee0dffbda20> default_metadata=()\n"
          ]
        }
      ]
    },
    {
      "cell_type": "code",
      "source": [
        "# function tool\n",
        "def deposit_money(name:str, amount:int, account_id:int)->dict:\n",
        "\n",
        "  \"\"\"Deposit Money into bank.\n",
        "  Arg:\n",
        "  name: account holder name :str\n",
        "  ammount: amount to deposit :int\n",
        "  account_id: account id :int\n",
        "   return:\n",
        "   dict\n",
        "   \"\"\"\n",
        "  return{'status': f\"{amount} has been deposited to {name}'s account\"}"
      ],
      "metadata": {
        "id": "kSDoOdGb05-E"
      },
      "execution_count": null,
      "outputs": []
    },
    {
      "cell_type": "code",
      "source": [
        "llmwithFunction= llm.bind_tools(tools=[deposit_money])"
      ],
      "metadata": {
        "id": "v7yTcU-02uDW"
      },
      "execution_count": null,
      "outputs": []
    },
    {
      "cell_type": "code",
      "source": [
        "llmwithFunction"
      ],
      "metadata": {
        "colab": {
          "base_uri": "https://localhost:8080/"
        },
        "id": "b6LW7Yar23_1",
        "outputId": "8159f387-c562-4514-e15d-1a75403a83ae"
      },
      "execution_count": null,
      "outputs": [
        {
          "output_type": "execute_result",
          "data": {
            "text/plain": [
              "RunnableBinding(bound=ChatGoogleGenerativeAI(model='models/gemini-1.5-flash', google_api_key=SecretStr('**********'), client=<google.ai.generativelanguage_v1beta.services.generative_service.client.GenerativeServiceClient object at 0x7ee0dffbda20>, default_metadata=()), kwargs={'tools': [{'type': 'function', 'function': {'name': 'deposit_money', 'description': 'Deposit Money into bank.\\nArg:\\nname: account holder name :str\\nammount: amount to deposit :int\\naccount_id: account id :int\\n return:\\n dict\\n', 'parameters': {'properties': {'name': {'type': 'string'}, 'amount': {'type': 'integer'}, 'account_id': {'type': 'integer'}}, 'required': ['name', 'amount', 'account_id'], 'type': 'object'}}}]}, config={}, config_factories=[])"
            ]
          },
          "metadata": {},
          "execution_count": 44
        }
      ]
    },
    {
      "cell_type": "code",
      "source": [
        "llmwithFunction.invoke('hi')"
      ],
      "metadata": {
        "colab": {
          "base_uri": "https://localhost:8080/"
        },
        "id": "PnwZw7cI3XcE",
        "outputId": "b458a0a4-1d79-4bfc-ba88-8a2d1b726b6d"
      },
      "execution_count": null,
      "outputs": [
        {
          "output_type": "execute_result",
          "data": {
            "text/plain": [
              "AIMessage(content='Hello! How can I help you today?\\n', additional_kwargs={}, response_metadata={'prompt_feedback': {'block_reason': 0, 'safety_ratings': []}, 'finish_reason': 'STOP', 'safety_ratings': []}, id='run-62cdbe19-7cf7-42ce-8a3b-bccf43463609-0', usage_metadata={'input_tokens': 99, 'output_tokens': 10, 'total_tokens': 109, 'input_token_details': {'cache_read': 0}})"
            ]
          },
          "metadata": {},
          "execution_count": 21
        }
      ]
    },
    {
      "cell_type": "code",
      "source": [
        "llmwithFunction.invoke('how can i deposit money')"
      ],
      "metadata": {
        "colab": {
          "base_uri": "https://localhost:8080/"
        },
        "id": "-PcaQOVz3ex4",
        "outputId": "6b7addeb-7d87-44e3-bd7c-fc96ea2bc75f"
      },
      "execution_count": null,
      "outputs": [
        {
          "output_type": "execute_result",
          "data": {
            "text/plain": [
              "AIMessage(content=\"To deposit money, you'll need to provide your account ID, the amount you wish to deposit, and your name.  The system will then process the transaction.  What are your account ID, the amount, and your name?\\n\", additional_kwargs={}, response_metadata={'prompt_feedback': {'block_reason': 0, 'safety_ratings': []}, 'finish_reason': 'STOP', 'safety_ratings': []}, id='run-739737df-ac02-4dbd-8b9f-5beefd641d7a-0', usage_metadata={'input_tokens': 103, 'output_tokens': 49, 'total_tokens': 152, 'input_token_details': {'cache_read': 0}})"
            ]
          },
          "metadata": {},
          "execution_count": 22
        }
      ]
    },
    {
      "cell_type": "code",
      "source": [
        "llm.invoke('how can i deposit money')"
      ],
      "metadata": {
        "colab": {
          "base_uri": "https://localhost:8080/"
        },
        "id": "A8V29bQ43nQT",
        "outputId": "f5165198-986e-4258-a604-e4d9749e96b6"
      },
      "execution_count": null,
      "outputs": [
        {
          "output_type": "execute_result",
          "data": {
            "text/plain": [
              "AIMessage(content=\"The method for depositing money depends entirely on *where* you want to deposit it.  To help me give you a useful answer, please tell me:\\n\\n* **Where are you depositing the money?**  (e.g., a bank account, a brokerage account, a prepaid card, a mobile payment app like PayPal or Venmo, a specific company's account, etc.)\\n* **How are you depositing the money?** (e.g., cash, check, electronic transfer from another account, debit card, credit card)\\n\\nOnce I have this information, I can provide specific instructions.\\n\", additional_kwargs={}, response_metadata={'prompt_feedback': {'block_reason': 0, 'safety_ratings': []}, 'finish_reason': 'STOP', 'safety_ratings': []}, id='run-28dec05b-6479-463d-8bf8-7d773e25e2e3-0', usage_metadata={'input_tokens': 6, 'output_tokens': 125, 'total_tokens': 131, 'input_token_details': {'cache_read': 0}})"
            ]
          },
          "metadata": {},
          "execution_count": 23
        }
      ]
    },
    {
      "cell_type": "code",
      "source": [
        "llmwithFunction.invoke(\" deposit $2000 into Awais's account and account id is 123\")"
      ],
      "metadata": {
        "colab": {
          "base_uri": "https://localhost:8080/"
        },
        "id": "6i57ZRCZ3wWH",
        "outputId": "5fc7bc4c-b230-466e-c5f8-18fe1800395e"
      },
      "execution_count": null,
      "outputs": [
        {
          "output_type": "execute_result",
          "data": {
            "text/plain": [
              "AIMessage(content='', additional_kwargs={'function_call': {'name': 'deposit_money', 'arguments': '{\"account_id\": 123.0, \"amount\": 2000.0, \"name\": \"Awais\"}'}}, response_metadata={'prompt_feedback': {'block_reason': 0, 'safety_ratings': []}, 'finish_reason': 'STOP', 'safety_ratings': []}, id='run-2ac112d5-4109-4283-9a72-40b0a1508309-0', tool_calls=[{'name': 'deposit_money', 'args': {'account_id': 123.0, 'amount': 2000.0, 'name': 'Awais'}, 'id': '1bf96b67-baf9-4d2b-a184-f883eddfcf6e', 'type': 'tool_call'}], usage_metadata={'input_tokens': 119, 'output_tokens': 11, 'total_tokens': 130, 'input_token_details': {'cache_read': 0}})"
            ]
          },
          "metadata": {},
          "execution_count": 49
        }
      ]
    },
    {
      "cell_type": "code",
      "source": [
        "## Graph\n",
        "from typing_extensions import TypedDict\n",
        "\n",
        "class llmwithToolState(TypedDict):\n",
        "  messages:list\n",
        "\n",
        "def call_llm(state:llmwithToolState)->llmwithToolState:\n",
        "  message=state['messages']\n",
        "  response=llmwithFunction.invoke(message)\n",
        "  return {'messages':[response]}"
      ],
      "metadata": {
        "id": "4Gbwbpov3_Wg"
      },
      "execution_count": null,
      "outputs": []
    },
    {
      "cell_type": "code",
      "source": [
        "call_llm({'messages':[\" deposit $2000 into Awais's account and account id is 123\"]})"
      ],
      "metadata": {
        "colab": {
          "base_uri": "https://localhost:8080/"
        },
        "id": "r2ZbJwAk5ZMN",
        "outputId": "c87f3337-0ac9-4457-b60f-6673ed7e8d1a"
      },
      "execution_count": null,
      "outputs": [
        {
          "output_type": "execute_result",
          "data": {
            "text/plain": [
              "{'messages': [AIMessage(content='', additional_kwargs={'function_call': {'name': 'deposit_money', 'arguments': '{\"account_id\": 123.0, \"amount\": 2000.0, \"name\": \"Awais\"}'}}, response_metadata={'prompt_feedback': {'block_reason': 0, 'safety_ratings': []}, 'finish_reason': 'STOP', 'safety_ratings': []}, id='run-14cd80fb-c1ad-41de-b215-e2a1435af6e3-0', tool_calls=[{'name': 'deposit_money', 'args': {'account_id': 123.0, 'amount': 2000.0, 'name': 'Awais'}, 'id': 'b96282de-402d-47e7-915c-7482d7dd3e57', 'type': 'tool_call'}], usage_metadata={'input_tokens': 119, 'output_tokens': 11, 'total_tokens': 130, 'input_token_details': {'cache_read': 0}})]}"
            ]
          },
          "metadata": {},
          "execution_count": 26
        }
      ]
    },
    {
      "cell_type": "code",
      "source": [
        "from langgraph.graph import StateGraph, START, END\n",
        "from langgraph.graph.state import CompiledStateGraph\n",
        "from IPython.display import Image, display\n",
        "builder:StateGraph=StateGraph(state_schema=llmwithToolState)\n",
        "\n",
        "builder.add_node('llm_call_tool', call_llm)\n",
        "\n",
        "builder.add_edge(START,'llm_call_tool')\n",
        "builder.add_edge('llm_call_tool',END)\n",
        "\n",
        "graph:CompiledStateGraph= builder.compile()\n",
        "\n",
        "display(Image(graph.get_graph().draw_mermaid_png()))"
      ],
      "metadata": {
        "colab": {
          "base_uri": "https://localhost:8080/",
          "height": 251
        },
        "id": "yYiHN6A_5i40",
        "outputId": "e6718279-7551-49ec-ad46-fe0ba7f38e85"
      },
      "execution_count": null,
      "outputs": [
        {
          "output_type": "display_data",
          "data": {
            "image/png": "[encoded data removed]",
            "text/plain": [
              "<IPython.core.display.Image object>"
            ]
          },
          "metadata": {}
        }
      ]
    },
    {
      "cell_type": "code",
      "source": [
        "messages=graph.invoke({'messages':[HumanMessage(content=\" deposit $2000 into Awais's account and account id 123 \")]})\n",
        "# graph.invoke({'messages':[HumanMessage(content=\"account id 123 \")]})\n",
        "# graph.invoke({'messages':[HumanMessage(content=\"Is amount deposit\")]})\n",
        "for m in messages['messages']:\n",
        "  m.pretty_print()\n",
        "  # print(m)"
      ],
      "metadata": {
        "colab": {
          "base_uri": "https://localhost:8080/"
        },
        "id": "iKsDiEav6M4F",
        "outputId": "c3c4b08f-acf0-4562-a6d8-c5dd40213242"
      },
      "execution_count": null,
      "outputs": [
        {
          "output_type": "stream",
          "name": "stdout",
          "text": [
            "==================================\u001b[1m Ai Message \u001b[0m==================================\n",
            "Tool Calls:\n",
            "  deposit_money (39a49dd9-73bb-4b83-a80f-ef0932c3351c)\n",
            " Call ID: 39a49dd9-73bb-4b83-a80f-ef0932c3351c\n",
            "  Args:\n",
            "    account_id: 123.0\n",
            "    amount: 2000.0\n",
            "    name: Awais\n"
          ]
        }
      ]
    },
    {
      "cell_type": "code",
      "source": [],
      "metadata": {
        "id": "EN-4wLSTorcE"
      },
      "execution_count": null,
      "outputs": []
    },
    {
      "cell_type": "markdown",
      "source": [
        "###chains_reducers"
      ],
      "metadata": {
        "id": "bUnJt7Vk8J7e"
      }
    },
    {
      "cell_type": "code",
      "source": [
        "def multiply(a: int, b: int) -> int:\n",
        "    \"\"\"Multiply a and b.\n",
        "\n",
        "    Args:\n",
        "        a: first int\n",
        "        b: second int\n",
        "    \"\"\"\n",
        "    return a * b\n",
        "\n",
        "llmwithFunction=llmwithFunction.bind_tools([multiply,deposit_money])\n",
        "\n"
      ],
      "metadata": {
        "id": "aPECzF_i8ObE"
      },
      "execution_count": null,
      "outputs": []
    },
    {
      "cell_type": "code",
      "source": [],
      "metadata": {
        "id": "t4QLEKE71UPV"
      },
      "execution_count": null,
      "outputs": []
    },
    {
      "cell_type": "code",
      "source": [
        "llmwithFunction"
      ],
      "metadata": {
        "colab": {
          "base_uri": "https://localhost:8080/"
        },
        "id": "D8HnDZh68j-Y",
        "outputId": "06399b83-f73c-4b65-e4e1-3695c9848d43"
      },
      "execution_count": null,
      "outputs": [
        {
          "output_type": "execute_result",
          "data": {
            "text/plain": [
              "RunnableBinding(bound=ChatGoogleGenerativeAI(model='models/gemini-1.5-flash', google_api_key=SecretStr('**********'), client=<google.ai.generativelanguage_v1beta.services.generative_service.client.GenerativeServiceClient object at 0x7b7280b60460>, default_metadata=()), kwargs={'tools': [{'type': 'function', 'function': {'name': 'multiply', 'description': 'Multiply a and b.', 'parameters': {'properties': {'a': {'description': 'first int', 'type': 'integer'}, 'b': {'description': 'second int', 'type': 'integer'}}, 'required': ['a', 'b'], 'type': 'object'}}}, {'type': 'function', 'function': {'name': 'deposit_money', 'description': 'Deposit Money into bank.\\nArg:\\nname: account holder name :str\\nammount: amount to deposit :int\\naccount_id: account id :int\\n return:\\n dict\\n', 'parameters': {'properties': {'name': {'type': 'string'}, 'amount': {'type': 'integer'}, 'account_id': {'type': 'integer'}}, 'required': ['name', 'amount', 'account_id'], 'type': 'object'}}}]}, config={}, config_factories=[])"
            ]
          },
          "metadata": {},
          "execution_count": 29
        }
      ]
    },
    {
      "cell_type": "code",
      "source": [
        "function_call=llmwithFunction.invoke([HumanMessage(content=f\"What is 2 multiplied by 3\", name=\"Lance\")])\n",
        "call_llm({'messages':[\" deposit $2000 into Awais's account and account id is 123\"]})"
      ],
      "metadata": {
        "id": "_ANQMlAC9NkX",
        "colab": {
          "base_uri": "https://localhost:8080/"
        },
        "outputId": "903bb119-ced4-432b-c388-6c2237f4a2c2"
      },
      "execution_count": null,
      "outputs": [
        {
          "output_type": "execute_result",
          "data": {
            "text/plain": [
              "{'messages': [AIMessage(content='', additional_kwargs={'function_call': {'name': 'deposit_money', 'arguments': '{\"account_id\": 123.0, \"amount\": 2000.0, \"name\": \"Awais\"}'}}, response_metadata={'prompt_feedback': {'block_reason': 0, 'safety_ratings': []}, 'finish_reason': 'STOP', 'safety_ratings': []}, id='run-afcd60d3-b60b-496d-9bbc-518d1ab231ba-0', tool_calls=[{'name': 'deposit_money', 'args': {'account_id': 123.0, 'amount': 2000.0, 'name': 'Awais'}, 'id': '0bb79038-efa9-4951-b015-5d27dd9678da', 'type': 'tool_call'}], usage_metadata={'input_tokens': 167, 'output_tokens': 11, 'total_tokens': 178, 'input_token_details': {'cache_read': 0}})]}"
            ]
          },
          "metadata": {},
          "execution_count": 50
        }
      ]
    },
    {
      "cell_type": "code",
      "source": [
        "function_call.additional_kwargs['function_call']\n"
      ],
      "metadata": {
        "colab": {
          "base_uri": "https://localhost:8080/"
        },
        "id": "wqyPWGIl9Xv7",
        "outputId": "3ea612a5-d37a-4498-aa57-18d40451e8b8"
      },
      "execution_count": null,
      "outputs": [
        {
          "output_type": "execute_result",
          "data": {
            "text/plain": [
              "{'name': 'multiply', 'arguments': '{\"a\": 2.0, \"b\": 3.0}'}"
            ]
          },
          "metadata": {},
          "execution_count": 48
        }
      ]
    },
    {
      "cell_type": "code",
      "source": [
        "from typing_extensions import TypedDict\n",
        "from langchain_core.messages import AnyMessage\n",
        "class MessageState(TypedDict):\n",
        "  messages:list[AnyMessage]"
      ],
      "metadata": {
        "id": "Y3-4x1pb-YKV"
      },
      "execution_count": null,
      "outputs": []
    },
    {
      "cell_type": "code",
      "source": [
        "from typing import Annotated\n",
        "from langgraph.graph.message import add_messages\n",
        "class MessageState(TypedDict):\n",
        "  messages: Annotated [list[AnyMessage], add_messages]\n",
        "\n",
        "# def add_messages(messages: list[AnyMessage], new_messages: list[AnyMessage]) -> list[AnyMessage]:\n",
        "#     \"\"\"Add new messages to existing messages.\"\"\"\n",
        "#     return messages + new_messages"
      ],
      "metadata": {
        "id": "26DQESjr-6Qh"
      },
      "execution_count": null,
      "outputs": []
    },
    {
      "cell_type": "code",
      "source": [
        "add_messages(['first '], ['second'])"
      ],
      "metadata": {
        "colab": {
          "base_uri": "https://localhost:8080/"
        },
        "id": "fofBWG4B_xYU",
        "outputId": "160ecc0f-e6fd-4599-9973-f8d3edfdc6ec"
      },
      "execution_count": null,
      "outputs": [
        {
          "output_type": "execute_result",
          "data": {
            "text/plain": [
              "['first ', 'second']"
            ]
          },
          "metadata": {},
          "execution_count": 67
        }
      ]
    },
    {
      "cell_type": "code",
      "source": [
        "from langgraph.graph import MessagesState\n",
        "\n",
        "class Messagestate(MessagesState):\n",
        "  pass\n",
        "\n",
        "# def add_messages(messages: list[AnyMessage], new_messages: list[AnyMessage]) -> list[AnyMessage]:\n",
        "#     \"\"\"Add new messages to existing messages.\"\"\"\n",
        "#     return messages + new_messages"
      ],
      "metadata": {
        "id": "g4CqQS_rANIw"
      },
      "execution_count": null,
      "outputs": []
    },
    {
      "cell_type": "code",
      "source": [
        "initial_messages = [AIMessage(content=\"Hello! How can I assist you?\", name=\"Model\"),\n",
        "                    HumanMessage(content=\"I'm looking for information on marine biology.\", name=\"Lance\")\n",
        "                   ]\n",
        "\n",
        "# New message to add\n",
        "new_message = AIMessage(content=\"Sure, I can help with that. What specifically are you interested in?\", name=\"Model\")\n",
        "\n",
        "# Test\n",
        "add_messages(initial_messages , new_message)"
      ],
      "metadata": {
        "colab": {
          "base_uri": "https://localhost:8080/"
        },
        "id": "0EMaAlNhBA14",
        "outputId": "143782df-248a-4031-c05b-196b3d7a9265"
      },
      "execution_count": null,
      "outputs": [
        {
          "output_type": "execute_result",
          "data": {
            "text/plain": [
              "[AIMessage(content='Hello! How can I assist you?', additional_kwargs={}, response_metadata={}, name='Model', id='6c1a65d2-7b83-481d-ad76-f47eefcb0a08'),\n",
              " HumanMessage(content=\"I'm looking for information on marine biology.\", additional_kwargs={}, response_metadata={}, name='Lance', id='30e41605-8363-46e3-9331-758703e1b50a'),\n",
              " AIMessage(content='Sure, I can help with that. What specifically are you interested in?', additional_kwargs={}, response_metadata={}, name='Model', id='16968ac5-36e1-4a5f-8899-3a458fcf0c51')]"
            ]
          },
          "metadata": {},
          "execution_count": 73
        }
      ]
    },
    {
      "cell_type": "code",
      "source": [
        "#graph\n",
        "\n",
        "def tool_Calling_lmm(state:Messagestate)->Messagestate:\n",
        "  updated_messages = llmwithFunction.invoke(state[\"messages\"])\n",
        "  return {\"messages\": updated_messages}\n",
        "\n",
        "builder:StateGraph=StateGraph(state_schema=Messagestate)\n",
        "\n",
        "builder.add_node('tool_Calling_lmm', tool_Calling_lmm)\n",
        "\n",
        "builder.add_edge(START,'tool_Calling_lmm')\n",
        "builder.add_edge('tool_Calling_lmm',END)\n",
        "\n",
        "graph:CompiledStateGraph= builder.compile()\n",
        "\n",
        "display(Image(graph.get_graph().draw_mermaid_png()))\n"
      ],
      "metadata": {
        "colab": {
          "base_uri": "https://localhost:8080/",
          "height": 251
        },
        "id": "67zbM96-ByRA",
        "outputId": "fc76762d-1d1e-4976-bac4-e39f7bf474ac"
      },
      "execution_count": null,
      "outputs": [
        {
          "output_type": "display_data",
          "data": {
            "image/png": "[encoded data removed]",
            "text/plain": [
              "<IPython.core.display.Image object>"
            ]
          },
          "metadata": {}
        }
      ]
    },
    {
      "cell_type": "code",
      "source": [
        "# messages+=graph.invoke({'messages':'I am looking for information on  Ai agent.'})\n",
        "# messages+=(graph.invoke({'messages':'How to learn Ai agent.'}))\n",
        "\n",
        "messages+=graph.invoke({'messages':'I want t become an   Ai agent developer .'})\n",
        "messages+=(graph.invoke({'messages':'Motivate me to learn Ai agent.'}))\n",
        "messages\n",
        "for m in messages['messages']:\n",
        "  print(m)"
      ],
      "metadata": {
        "colab": {
          "base_uri": "https://localhost:8080/"
        },
        "id": "83piv6tvCgib",
        "outputId": "ba7c3934-7550-4776-ea6a-72579e7cac00"
      },
      "execution_count": null,
      "outputs": [
        {
          "output_type": "stream",
          "name": "stdout",
          "text": [
            "================================\u001b[1m Human Message \u001b[0m=================================\n",
            "\n",
            "Motivate me to learn Ai agent.\n",
            "==================================\u001b[1m Ai Message \u001b[0m==================================\n",
            "\n",
            "Embarking on the journey of learning about AI agents opens doors to a world of fascinating possibilities.  Imagine creating intelligent systems that can learn, adapt, and solve complex problems autonomously. This isn't just theoretical; AI agents are already transforming various industries, from revolutionizing customer service with chatbots to optimizing logistics and supply chains.  The skills you gain will be highly sought after, positioning you at the forefront of technological innovation.  Moreover, the creative problem-solving involved in designing and building AI agents is incredibly rewarding, offering a unique blend of intellectual challenge and tangible results.  You'll be contributing to a field that's shaping the future, and that's a pretty powerful motivator in itself.\n"
          ]
        }
      ]
    },
    {
      "cell_type": "code",
      "source": [
        "messages=graph.invoke({'messages':HumanMessage(content='what is the product of 2 and 4')})\n",
        "# messages=graph.invoke({'messages':[\" deposit $2000 into Awais's account and account id is 123\"]})\n",
        "for m in messages['messages']:\n",
        "  m.pretty_print()"
      ],
      "metadata": {
        "colab": {
          "base_uri": "https://localhost:8080/"
        },
        "id": "X69wqcgTGAHU",
        "outputId": "691177fc-b916-45e7-bd57-0373afd9ee88"
      },
      "execution_count": null,
      "outputs": [
        {
          "output_type": "stream",
          "name": "stdout",
          "text": [
            "================================\u001b[1m Human Message \u001b[0m=================================\n",
            "\n",
            "what is the product of 2 and 4\n",
            "==================================\u001b[1m Ai Message \u001b[0m==================================\n",
            "Tool Calls:\n",
            "  multiply (61e0a991-9ab7-481b-8758-8d5466719c15)\n",
            " Call ID: 61e0a991-9ab7-481b-8758-8d5466719c15\n",
            "  Args:\n",
            "    a: 2.0\n",
            "    b: 4.0\n"
          ]
        }
      ]
    },
    {
      "cell_type": "code",
      "source": [
        "# function_call.additional_kwargs['function_call']\n",
        "# messages\n"
      ],
      "metadata": {
        "colab": {
          "base_uri": "https://localhost:8080/"
        },
        "id": "ZW3sogH4xXC7",
        "outputId": "242094d2-9853-4e19-9344-10b3bb7bf300"
      },
      "execution_count": null,
      "outputs": [
        {
          "output_type": "execute_result",
          "data": {
            "text/plain": [
              "{'messages': [HumanMessage(content=\" deposit $2000 into Awais's account and account id is 123\", additional_kwargs={}, response_metadata={}, id='2b130d0c-8a57-48f7-896d-6226d9bc40f6'),\n",
              "  AIMessage(content='', additional_kwargs={'function_call': {'name': 'deposit_money', 'arguments': '{\"account_id\": 123.0, \"amount\": 2000.0, \"name\": \"Awais\"}'}}, response_metadata={'prompt_feedback': {'block_reason': 0, 'safety_ratings': []}, 'finish_reason': 'STOP', 'safety_ratings': []}, id='run-fe540318-c6dd-4303-8b19-88806bf7efc0-0', tool_calls=[{'name': 'deposit_money', 'args': {'account_id': 123.0, 'amount': 2000.0, 'name': 'Awais'}, 'id': '464afe8b-f080-4753-871d-44df92d0e1f8', 'type': 'tool_call'}], usage_metadata={'input_tokens': 167, 'output_tokens': 11, 'total_tokens': 178, 'input_token_details': {'cache_read': 0}})]}"
            ]
          },
          "metadata": {},
          "execution_count": 55
        }
      ]
    },
    {
      "cell_type": "code",
      "source": [
        "agrs=messages['messages'][1].additional_kwargs['function_call']\n",
        "agrs"
      ],
      "metadata": {
        "colab": {
          "base_uri": "https://localhost:8080/"
        },
        "id": "5XheHYgS068j",
        "outputId": "725b37c2-5490-4999-c67b-3ea171c7d3fa"
      },
      "execution_count": null,
      "outputs": [
        {
          "output_type": "execute_result",
          "data": {
            "text/plain": [
              "{'name': 'deposit_money',\n",
              " 'arguments': '{\"account_id\": 123.0, \"amount\": 2000.0, \"name\": \"Awais\"}'}"
            ]
          },
          "metadata": {},
          "execution_count": 65
        }
      ]
    },
    {
      "cell_type": "markdown",
      "source": [
        "### Issues till now\n",
        "```\n",
        "-> why it llm not store the previous state when call the next state like below :\n",
        "\n",
        "   messages+=graph.invoke({'messages':'I am looking for information on  Ai agent.'})\n",
        "   \n",
        "   messages+=(graph.invoke({'messages':'How to learn Ai agent.'}))\n",
        "\n",
        "->when we add a new function to llm why it overwrite the previous one\n",
        "\n",
        "```\n",
        "\n"
      ],
      "metadata": {
        "id": "-_GPHvDoHYI7"
      }
    }
  ]
}